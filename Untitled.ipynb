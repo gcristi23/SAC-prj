{
 "cells": [
  {
   "cell_type": "code",
   "execution_count": 2,
   "metadata": {},
   "outputs": [
    {
     "name": "stderr",
     "output_type": "stream",
     "text": [
      "IOPub data rate exceeded.\n",
      "The notebook server will temporarily stop sending output\n",
      "to the client in order to avoid crashing it.\n",
      "To change this limit, set the config variable\n",
      "`--NotebookApp.iopub_data_rate_limit`.\n",
      "\n",
      "Current values:\n",
      "NotebookApp.iopub_data_rate_limit=1000000.0 (bytes/sec)\n",
      "NotebookApp.rate_limit_window=3.0 (secs)\n",
      "\n"
     ]
    }
   ],
   "source": [
    "import requests as rq\n",
    "data = rq.get(\"http://api.steampowered.com/ISteamApps/GetAppList/v0001\")\n",
    "print(data.text)\n",
    "with open(\"data.txt\", \"w\") as f_data:\n",
    "    f_data.write(data.text)\n"
   ]
  },
  {
   "cell_type": "code",
   "execution_count": 5,
   "metadata": {},
   "outputs": [],
   "source": [
    "import json\n",
    "parsed_data = json.loads(data.text)"
   ]
  },
  {
   "cell_type": "code",
   "execution_count": 9,
   "metadata": {},
   "outputs": [],
   "source": [
    "applist = parsed_data['applist']['apps']['app']"
   ]
  },
  {
   "cell_type": "code",
   "execution_count": 18,
   "metadata": {},
   "outputs": [],
   "source": [
    "top = rq.get(\"http://steamspy.com/api.php?request=all\")"
   ]
  },
  {
   "cell_type": "code",
   "execution_count": 20,
   "metadata": {},
   "outputs": [],
   "source": [
    "parsed_top = json.loads(top.text)"
   ]
  },
  {
   "cell_type": "code",
   "execution_count": 25,
   "metadata": {},
   "outputs": [],
   "source": [
    "top_keys = [x for x in parsed_top.keys()]\n",
    "top_10k = {}\n",
    "for i in range(10000):\n",
    "    top_10k[parsed_top[top_keys[i]]['name']] = (i, top_keys[i])\n",
    "  "
   ]
  },
  {
   "cell_type": "code",
   "execution_count": 28,
   "metadata": {},
   "outputs": [],
   "source": [
    "with open(\"top10k.txt\", \"w\") as f:\n",
    "    json.dump(top_10k,f)"
   ]
  },
  {
   "cell_type": "code",
   "execution_count": 180,
   "metadata": {},
   "outputs": [],
   "source": [
    "import time\n",
    "\n",
    "game_info = {}\n",
    "required_keys = [\"categories\", \"developers\", \"genres\", \"metacritic\", \"platforms\", \"required_age\", \"release_date\"]\n",
    "sets = {k:set() for k in required_keys[:3]}\n",
    "top_keys = [x for x in top_10k.keys()]\n",
    "for lc in range(13,30):\n",
    "    \n",
    "    for i in range(200*lc, 200*(lc+1)):\n",
    "        game = \"https://store.steampowered.com/api/appdetails?appids=%s\"%(top_10k[top_keys[i]][1])\n",
    "        rq_data = rq.get(game)\n",
    "        if \"null\" == rq_data.text:\n",
    "            break\n",
    "        game_data = json.loads(rq_data.text)[top_10k[top_keys[i]][1]]\n",
    "        if \"data\" not in game_data.keys():\n",
    "            continue\n",
    "        else:\n",
    "            game_data = game_data[\"data\"]\n",
    "        game_info[top_keys[i]] = {}\n",
    "        for k in required_keys:\n",
    "            if k not in game_data.keys():\n",
    "                continue\n",
    "            if k == \"categories\" or k == \"genres\":\n",
    "                value = [x[\"description\"] for x in game_data[k] if \"steam\" not in x[\"description\"].lower() \n",
    "                         and \"in-app\" not in x[\"description\"].lower()]\n",
    "                sets[k] |= set(value)\n",
    "            elif k == \"metacritic\":\n",
    "                value = game_data[k][\"score\"]\n",
    "            elif k == \"release_date\":\n",
    "                value = game_data[k][\"date\"]\n",
    "            else:\n",
    "                value = game_data[k]\n",
    "\n",
    "            if k == \"developers\":\n",
    "                sets[k] |= set(value)\n",
    "            game_info[top_keys[i]][k] = value \n",
    "    with open(\"data_top%s.txt\"%(str(lc)), \"w\") as f_data:\n",
    "        f_data.write(json.dumps(game_info))\n",
    "    time.sleep(125)"
   ]
  },
  {
   "cell_type": "code",
   "execution_count": 181,
   "metadata": {},
   "outputs": [],
   "source": [
    "import itertools\n",
    "import numpy as np\n",
    "costs = np.zeros((10000,10000), dtype = np.int32)\n",
    "for val, k in enumerate(required_keys[:3]):\n",
    "    for elem in list(sets[k]):\n",
    "        games = [x for x in game_info.keys() if k in game_info[x].keys() and elem in game_info[x][k]] \n",
    "        indexes = [top_10k[x][0] for x in games]\n",
    "        metacritics = []\n",
    "        for x in games:\n",
    "            if \"metacritic\" in game_info[x].keys():\n",
    "                metacritics.append(game_info[x][\"metacritic\"])\n",
    "            else:\n",
    "                metacritics.append(1)\n",
    "        pairs = itertools.combinations(indexes,2)\n",
    "        for i in pairs:\n",
    "            costs[i[1]][i[0]] += (val+2)*((metacritics[indexes.index(i[0])]/100)+1)\n",
    "            costs[i[0]][i[1]] += (val+2)*((metacritics[indexes.index(i[1])]/100)+1)"
   ]
  },
  {
   "cell_type": "code",
   "execution_count": 121,
   "metadata": {},
   "outputs": [],
   "source": [
    "np.set_printoptions(threshold=np.nan)\n",
    "with open(\"costs.txt\",\"w\") as f:\n",
    "    f.write(str(costs))"
   ]
  },
  {
   "cell_type": "code",
   "execution_count": 178,
   "metadata": {},
   "outputs": [
    {
     "data": {
      "text/plain": [
       "['Terraria',\n",
       " 'ARK: Survival Evolved',\n",
       " 'Tomb Raider',\n",
       " 'Grand Theft Auto IV',\n",
       " 'BattleBlock Theater',\n",
       " 'Trine 2: Complete Story',\n",
       " 'Grim Dawn',\n",
       " 'Resident Evil 5/ Biohazard 5',\n",
       " 'Contagion',\n",
       " 'NARUTO SHIPPUDEN: Ultimate Ninja STORM 3 Full Burst HD',\n",
       " 'How to Survive 2',\n",
       " 'The Incredible Adventures of Van Helsing II',\n",
       " 'Windward',\n",
       " 'The Incredible Adventures of Van Helsing: Final Cut',\n",
       " 'LARA CROFT AND THE TEMPLE OF OSIRIS']"
      ]
     },
     "execution_count": 178,
     "metadata": {},
     "output_type": "execute_result"
    }
   ],
   "source": [
    "k = np.max(costs[top_10k[\"Grand Theft Auto V\"][0]])\n",
    "the_id = np.where(costs[top_10k[\"Grand Theft Auto V\"][0]]>=k-4)\n",
    "[x for x in top_keys for k in the_id[0] if top_10k[x][0]==k]"
   ]
  },
  {
   "cell_type": "code",
   "execution_count": 179,
   "metadata": {},
   "outputs": [
    {
     "data": {
      "text/plain": [
       "['Terraria',\n",
       " 'ARK: Survival Evolved',\n",
       " 'Tomb Raider',\n",
       " 'Grand Theft Auto IV',\n",
       " 'BattleBlock Theater',\n",
       " 'Trine 2: Complete Story',\n",
       " 'Grim Dawn',\n",
       " 'Resident Evil 5/ Biohazard 5',\n",
       " 'Contagion',\n",
       " 'NARUTO SHIPPUDEN: Ultimate Ninja STORM 3 Full Burst HD',\n",
       " 'How to Survive 2',\n",
       " 'The Incredible Adventures of Van Helsing II',\n",
       " 'Windward',\n",
       " 'The Incredible Adventures of Van Helsing: Final Cut',\n",
       " 'LARA CROFT AND THE TEMPLE OF OSIRIS']"
      ]
     },
     "execution_count": 179,
     "metadata": {},
     "output_type": "execute_result"
    }
   ],
   "source": [
    "k = np.max(costs[:][top_10k[\"Grand Theft Auto V\"][0]])\n",
    "the_id = np.where(costs[:][top_10k[\"Grand Theft Auto V\"][0]]>=k-4)\n",
    "[x for x in top_keys for k in the_id[0] if top_10k[x][0]==k]\n"
   ]
  },
  {
   "cell_type": "code",
   "execution_count": null,
   "metadata": {},
   "outputs": [],
   "source": []
  }
 ],
 "metadata": {
  "kernelspec": {
   "display_name": "Python 3",
   "language": "python",
   "name": "python3"
  },
  "language_info": {
   "codemirror_mode": {
    "name": "ipython",
    "version": 3
   },
   "file_extension": ".py",
   "mimetype": "text/x-python",
   "name": "python",
   "nbconvert_exporter": "python",
   "pygments_lexer": "ipython3",
   "version": "3.6.6"
  }
 },
 "nbformat": 4,
 "nbformat_minor": 2
}
